{
 "cells": [
  {
   "cell_type": "markdown",
   "execution_count": null,
   "metadata": {
    "collapsed": false,
    "outputExpanded": false
   },
   "source": [
    "Node provides a wonderful way to compile and run code within V8 Virtual Machine contexts, via the `vm` module:"
   ],
   "outputs": []
  },
  {
   "cell_type": "code",
   "execution_count": 1,
   "metadata": {
    "collapsed": false,
    "outputExpanded": false
   },
   "source": [
    "var vm = require('vm')"
   ],
   "outputs": []
  },
  {
   "cell_type": "code",
   "execution_count": 2,
   "metadata": {
    "collapsed": false,
    "outputExpanded": false
   },
   "source": [
    "vm"
   ],
   "outputs": [
    {
     "execution_count": 2,
     "data": {
      "text/plain": [
       "{ Script: [Function: ContextifyScript],\n",
       "  createScript: [Function],\n",
       "  createContext: [Function],\n",
       "  runInDebugContext: [Function],\n",
       "  runInContext: [Function],\n",
       "  runInNewContext: [Function],\n",
       "  runInThisContext: [Function],\n",
       "  isContext: [Function: isContext] }"
      ]
     },
     "metadata": {},
     "output_type": "execute_result",
     "text": []
    }
   ]
  },
  {
   "cell_type": "markdown",
   "metadata": {
    "outputExpanded": false
   },
   "source": [
    "The important API for keeping a running session with node is `createContext`. It lets you create a sandbox which can be provided a global context, providing modules and functions people expect like `console.log`, `setTimeout`, and `require`. Below we'll create a \"sandbox\" that isn't much of one since it will get the current globals, including require."
   ]
  },
  {
   "cell_type": "code",
   "execution_count": 3,
   "metadata": {
    "collapsed": false,
    "outputExpanded": false
   },
   "source": [
    "var sandbox = vm.createContext(\n",
    "    Object.assign({}, global)\n",
    ")"
   ],
   "outputs": []
  },
  {
   "cell_type": "code",
   "execution_count": 4,
   "metadata": {
    "collapsed": false,
    "outputExpanded": false
   },
   "source": [
    "sandbox.console"
   ],
   "outputs": [
    {
     "execution_count": 4,
     "data": {
      "text/plain": [
       "Console {\n",
       "  log: [Function: bound ],\n",
       "  info: [Function: bound ],\n",
       "  warn: [Function: bound ],\n",
       "  error: [Function: bound ],\n",
       "  dir: [Function: bound ],\n",
       "  time: [Function: bound ],\n",
       "  timeEnd: [Function: bound ],\n",
       "  trace: [Function: bound trace],\n",
       "  assert: [Function: bound ],\n",
       "  Console: [Function: Console] }"
      ]
     },
     "metadata": {},
     "output_type": "execute_result",
     "text": []
    }
   ]
  },
  {
   "cell_type": "markdown",
   "metadata": {
    "outputExpanded": false
   },
   "source": [
    "To run in the sandbox we use `vm.runInContext` which has this signature\n",
    "\n",
    "```js\n",
    "runInContext(code: string, sandbox: context): any\n",
    "```"
   ]
  },
  {
   "cell_type": "code",
   "execution_count": 5,
   "metadata": {
    "collapsed": false,
    "outputExpanded": false
   },
   "source": [
    "var result = vm.runInContext(\"var b = \\{ a: 2, require \\}; b\", sandbox)"
   ],
   "outputs": []
  },
  {
   "cell_type": "code",
   "execution_count": 6,
   "metadata": {
    "collapsed": false,
    "outputExpanded": false
   },
   "source": [
    "result.a"
   ],
   "outputs": [
    {
     "execution_count": 6,
     "data": {
      "text/plain": [
       "2"
      ]
     },
     "metadata": {},
     "output_type": "execute_result",
     "text": []
    }
   ]
  },
  {
   "cell_type": "markdown",
   "metadata": {
    "outputExpanded": false
   },
   "source": [
    "## Creating a display function for a nodejs kernel\n",
    "\nIn order to be able to asynchronously write back to the frontend, we'll want a `display` function."
   ]
  },
  {
   "cell_type": "code",
   "execution_count": 10,
   "metadata": {
    "collapsed": false,
    "outputExpanded": false
   },
   "source": [
    "var hookedDisplay = console.log.bind(console) // Pretend this is a rich display\n",
    "\n",
    "var sandbox = vm.createContext(\n",
    "  Object.assign(\n",
    "    { display: hookedDisplay },\n",
    "    global\n",
    "  )\n",
    ")"
   ],
   "outputs": []
  },
  {
   "cell_type": "code",
   "execution_count": 23,
   "metadata": {
    "collapsed": false,
    "outputExpanded": false
   },
   "source": [
    "// code comes in on an `execute_request`\n",
    "code = \"display('hey')\"\n",
    "// { execute_request: { code: \"display('hey')\" }}\n",
    "\n",
    "// We execute the code\n",
    "result = vm.runInContext(code, sandbox)\n",
    "\n",
    "// Responses:\n",
    "//   { display_data: { data: 'text/plain': 'hey' }}\n",
    "//   { execute_result: { data: 'text/plain': 'undefined' }}\n"
   ],
   "outputs": [
    {
     "name": "stdout",
     "text": [
      "hey\n"
     ],
     "output_type": "stream"
    }
   ]
  },
  {
   "cell_type": "code",
   "execution_count": 18,
   "metadata": {
    "collapsed": false,
    "outputExpanded": false
   },
   "source": [],
   "outputs": []
  },
  {
   "cell_type": "code",
   "execution_count": 16,
   "metadata": {
    "collapsed": false,
    "outputExpanded": false
   },
   "source": [],
   "outputs": []
  },
  {
   "cell_type": "code",
   "execution_count": null,
   "metadata": {
    "collapsed": false,
    "outputExpanded": false
   },
   "source": [],
   "outputs": []
  }
 ],
 "nbformat": 4,
 "nbformat_minor": 0,
 "metadata": {
  "kernelspec": {
   "name": "nodejs",
   "language": "javascript",
   "display_name": "Node.js"
  },
  "kernel_info": {
   "name": "nodejs"
  },
  "language_info": {
   "name": "node.js",
   "version": "6.7.0",
   "mimetype": "application/javascript",
   "file_extension": ".js",
   "codemirror_mode": "javascript"
  },
  "gist_id": "14e10ec8d7c7e60be8b61c6a611fd5bb"
 }
}